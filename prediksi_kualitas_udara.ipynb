{
 "cells": [
  {
   "cell_type": "markdown",
   "metadata": {},
   "source": [
    "# Prediksi Kualitas Udara di Indonesia dengan Algoritma Support Vector Machine"
   ]
  },
  {
   "cell_type": "markdown",
   "metadata": {},
   "source": [
    "Nama : Ma'mur Zaky Nurrokhman<br>"
   ]
  },
  {
   "cell_type": "markdown",
   "metadata": {},
   "source": [
    "## Import Library"
   ]
  },
  {
   "cell_type": "code",
   "execution_count": null,
   "metadata": {},
   "outputs": [],
   "source": [
    "# import library yang dibutuhkan\n",
    "\n",
    "import pandas as pd\n",
    "import numpy as np\n",
    "import matplotlib.pyplot as plt\n",
    "from sklearn.svm import SVC\n",
    "from sklearn.model_selection import GridSearchCV\n",
    "from sklearn.preprocessing import StandardScaler\n",
    "from sklearn.model_selection import train_test_split\n",
    "from sklearn.metrics import *\n",
    "from imblearn.over_sampling import RandomOverSampler"
   ]
  },
  {
   "cell_type": "markdown",
   "metadata": {},
   "source": [
    "## Exploratory Data Analysis (EDA)"
   ]
  },
  {
   "cell_type": "markdown",
   "metadata": {},
   "source": [
    "### Dataset Indeks Standar Pencemar Udara (ISPU) di SPKU Jakarta tahun 2021"
   ]
  },
  {
   "cell_type": "code",
   "execution_count": null,
   "metadata": {},
   "outputs": [],
   "source": [
    "# import dataset indeks standar pencemar udara (ISPU) di stasiun pemantau kualitas udara (SPKU) Jakarta pada tahun 2021\n",
    "\n",
    "df_spku_jan = pd.read_csv('../Dataset/Indeks Standar Pencemar Udara (ISPU) Tahun 2021/indeks-standar-pencemar-udara-di-spku-bulan-januari-tahun-2021.csv')\n",
    "df_spku_feb = pd.read_csv('../Dataset/Indeks Standar Pencemar Udara (ISPU) Tahun 2021/indeks-standar-pencemar-udara-di-spku-bulan-februari-tahun-2021.csv')\n",
    "df_spku_mar = pd.read_csv('../Dataset/Indeks Standar Pencemar Udara (ISPU) Tahun 2021/indeks-standar-pencemar-udara-di-spku-bulan-maret-tahun-2021.csv')\n",
    "df_spku_apr = pd.read_csv('../Dataset/Indeks Standar Pencemar Udara (ISPU) Tahun 2021/indeks-standar-pencemar-udara-di-spku-bulan-april-tahun-2021.csv')\n",
    "df_spku_may = pd.read_csv('../Dataset/Indeks Standar Pencemar Udara (ISPU) Tahun 2021/indeks-standar-pencemar-udara-di-spku-bulan-mei-tahun-2021.csv')\n",
    "df_spku_jun = pd.read_csv('../Dataset/Indeks Standar Pencemar Udara (ISPU) Tahun 2021/indeks-standar-pencemar-udara-di-spku-bulan-juni-tahun-2021.csv')\n",
    "df_spku_jul = pd.read_csv('../Dataset/Indeks Standar Pencemar Udara (ISPU) Tahun 2021/indeks-standar-pencemar-udara-di-spku-bulan-juli-tahun-2021.csv')\n",
    "df_spku_aug = pd.read_csv('../Dataset/Indeks Standar Pencemar Udara (ISPU) Tahun 2021/indeks-standar-pencemar-udara-di-spku-bulan-agustus-tahun-2021.csv')\n",
    "df_spku_sep = pd.read_csv('../Dataset/Indeks Standar Pencemar Udara (ISPU) Tahun 2021/indeks-standar-pencemar-udara-di-spku-bulan-september-tahun-2021.csv')\n",
    "df_spku_oct = pd.read_csv('../Dataset/Indeks Standar Pencemar Udara (ISPU) Tahun 2021/indeks-standar-pencemar-udara-di-spku-bulan-oktober-tahun-2021.csv')\n",
    "df_spku_nov = pd.read_csv('../Dataset/Indeks Standar Pencemar Udara (ISPU) Tahun 2021/indeks-standar-pencemar-udara-di-spku-bulan-november-tahun-2021.csv')\n",
    "df_spku_dec = pd.read_csv('../Dataset/Indeks Standar Pencemar Udara (ISPU) Tahun 2021/indeks-standar-pencemar-udara-di-spku-bulan-desember-tahun-2021.csv')"
   ]
  },
  {
   "cell_type": "code",
   "execution_count": null,
   "metadata": {},
   "outputs": [],
   "source": [
    "# menampilkan 5 data teratas di bulan Januari\n",
    "\n",
    "df_spku_jan.head()"
   ]
  },
  {
   "cell_type": "code",
   "execution_count": null,
   "metadata": {},
   "outputs": [],
   "source": [
    "# menampilkan 5 data teratas di bulan Februari\n",
    "\n",
    "df_spku_feb.head()"
   ]
  },
  {
   "cell_type": "code",
   "execution_count": null,
   "metadata": {},
   "outputs": [],
   "source": [
    "# menampilkan 5 data teratas di bulan Maret\n",
    "\n",
    "df_spku_mar.head()"
   ]
  },
  {
   "cell_type": "code",
   "execution_count": null,
   "metadata": {},
   "outputs": [],
   "source": [
    "# menampilkan 5 data teratas di bulan April\n",
    "\n",
    "df_spku_apr.head()"
   ]
  },
  {
   "cell_type": "code",
   "execution_count": null,
   "metadata": {},
   "outputs": [],
   "source": [
    "# menampilkan 5 data teratas di bulan Mei\n",
    "\n",
    "df_spku_may.head()"
   ]
  },
  {
   "cell_type": "code",
   "execution_count": null,
   "metadata": {},
   "outputs": [],
   "source": [
    "# menampilkan 5 data teratas di bulan Juni\n",
    "\n",
    "df_spku_jun.head()"
   ]
  },
  {
   "cell_type": "code",
   "execution_count": null,
   "metadata": {},
   "outputs": [],
   "source": [
    "# menampilkan 5 data teratas di bulan Juli\n",
    "\n",
    "df_spku_jul.head()"
   ]
  },
  {
   "cell_type": "code",
   "execution_count": null,
   "metadata": {},
   "outputs": [],
   "source": [
    "# menampilkan 5 data teratas di bulan Agustus\n",
    "\n",
    "df_spku_aug.head()"
   ]
  },
  {
   "cell_type": "code",
   "execution_count": null,
   "metadata": {},
   "outputs": [],
   "source": [
    "# menampilkan 5 data teratas di bulan September\n",
    "\n",
    "df_spku_sep.head()"
   ]
  },
  {
   "cell_type": "code",
   "execution_count": null,
   "metadata": {},
   "outputs": [],
   "source": [
    "# menampilkan 5 data teratas di bulan Oktober\n",
    "\n",
    "df_spku_oct.head()"
   ]
  },
  {
   "cell_type": "code",
   "execution_count": null,
   "metadata": {},
   "outputs": [],
   "source": [
    "# menampilkan 5 data teratas di bulan November\n",
    "\n",
    "df_spku_nov.head()"
   ]
  },
  {
   "cell_type": "code",
   "execution_count": null,
   "metadata": {},
   "outputs": [],
   "source": [
    "# menampilkan 5 data teratas di bulan Desember\n",
    "\n",
    "df_spku_dec.head()"
   ]
  },
  {
   "cell_type": "code",
   "execution_count": null,
   "metadata": {},
   "outputs": [],
   "source": [
    "# menggabungkan seluruh data dari bulan Januari hingga Desember menjadi satu dataframe\n",
    "\n",
    "df_spku_jkt = pd.concat([df_spku_jan, df_spku_feb, df_spku_mar, df_spku_apr, df_spku_may, df_spku_jun, df_spku_jul, df_spku_aug, df_spku_sep, df_spku_oct, df_spku_nov, df_spku_dec])\n",
    "df_spku_jkt"
   ]
  },
  {
   "cell_type": "markdown",
   "metadata": {},
   "source": [
    "### Dataset Indeks Standar Pencemar Udara (ISPU) di Provinsi DKI Jakarta tahun 2021"
   ]
  },
  {
   "cell_type": "code",
   "execution_count": null,
   "metadata": {},
   "outputs": [],
   "source": [
    "# import dataset indeks standar pencemar udara (ISPU) di provinsi DKI Jakarta pada tahun 2021\n",
    "\n",
    "df_jkt_feb = pd.read_csv('../Dataset/Indeks Standar Pencemar Udara (ISPU) Tahun 2021/indeks-standar-pencemar-udara-di-provinsi-dki-jakarta-bulan-februari-tahun-2021.csv')\n",
    "df_jkt_mar = pd.read_csv('../Dataset/Indeks Standar Pencemar Udara (ISPU) Tahun 2021/indeks-standar-pencemar-udara-di-provinsi-dki-jakarta-bulan-maret-tahun-2021.csv')\n",
    "df_jkt_apr = pd.read_csv('../Dataset/Indeks Standar Pencemar Udara (ISPU) Tahun 2021/indeks-standar-pencemar-udara-di-provinsi-dki-jakarta-bulan-april-tahun-2021.csv')\n",
    "df_jkt_may = pd.read_csv('../Dataset/Indeks Standar Pencemar Udara (ISPU) Tahun 2021/indeks-standar-pencemar-udara-di-provinsi-dki-jakarta-bulan-mei-tahun-2021.csv')\n",
    "df_jkt_jun = pd.read_csv('../Dataset/Indeks Standar Pencemar Udara (ISPU) Tahun 2021/indeks-standar-pencemar-udara-di-provinsi-dki-jakarta-bulan-juni-tahun-2021.csv')\n",
    "df_jkt_jul = pd.read_csv('../Dataset/Indeks Standar Pencemar Udara (ISPU) Tahun 2021/indeks-standar-pencemar-udara-di-provinsi-dki-jakarta-bulan-juli-tahun-2021.csv')\n",
    "df_jkt_aug = pd.read_csv('../Dataset/Indeks Standar Pencemar Udara (ISPU) Tahun 2021/indeks-standar-pencemar-udara-di-provinsi-dki-jakarta-bulan-agustus-tahun-2021.csv')\n",
    "df_jkt_sep = pd.read_csv('../Dataset/Indeks Standar Pencemar Udara (ISPU) Tahun 2021/indeks-standar-pencemar-udara-di-provinsi-dki-jakarta-bulan-september-tahun-2021.csv')\n",
    "df_jkt_oct = pd.read_csv('../Dataset/Indeks Standar Pencemar Udara (ISPU) Tahun 2021/indeks-standar-pencemar-udara-di-provinsi-dki-jakarta-bulan-oktober-tahun-2021.csv')\n",
    "df_jkt_nov = pd.read_csv('../Dataset/Indeks Standar Pencemar Udara (ISPU) Tahun 2021/indeks-standar-pencemar-udara-di-provinsi-dki-jakarta-bulan-november-tahun-2021.csv')\n",
    "df_jkt_dec = pd.read_csv('../Dataset/Indeks Standar Pencemar Udara (ISPU) Tahun 2021/indeks-standar-pencemar-udara-di-provinsi-dki-jakarta-bulan-desember-tahun-2021.csv')"
   ]
  },
  {
   "cell_type": "code",
   "execution_count": null,
   "metadata": {},
   "outputs": [],
   "source": [
    "# menampilkan 5 data teratas di bulan Februari\n",
    "\n",
    "df_jkt_feb.head()"
   ]
  },
  {
   "cell_type": "code",
   "execution_count": null,
   "metadata": {},
   "outputs": [],
   "source": [
    "# menampilkan 5 data teratas di bulan Maret\n",
    "\n",
    "df_jkt_mar.head()"
   ]
  },
  {
   "cell_type": "code",
   "execution_count": null,
   "metadata": {},
   "outputs": [],
   "source": [
    "# menampilkan 5 data teratas di bulan April\n",
    "\n",
    "df_jkt_apr.head()"
   ]
  },
  {
   "cell_type": "code",
   "execution_count": null,
   "metadata": {},
   "outputs": [],
   "source": [
    "# menampilkan 5 data teratas di bulan Mei\n",
    "\n",
    "df_jkt_may.head()"
   ]
  },
  {
   "cell_type": "code",
   "execution_count": null,
   "metadata": {},
   "outputs": [],
   "source": [
    "# menampilkan 5 data teratas di bulan Juni\n",
    "\n",
    "df_jkt_jun.head()"
   ]
  },
  {
   "cell_type": "code",
   "execution_count": null,
   "metadata": {},
   "outputs": [],
   "source": [
    "# menampilkan 5 data teratas di bulan Juli\n",
    "\n",
    "df_jkt_jul.head()"
   ]
  },
  {
   "cell_type": "code",
   "execution_count": null,
   "metadata": {},
   "outputs": [],
   "source": [
    "# menampilkan 5 data teratas di bulan Agustus\n",
    "\n",
    "df_jkt_aug.head()"
   ]
  },
  {
   "cell_type": "code",
   "execution_count": null,
   "metadata": {},
   "outputs": [],
   "source": [
    "# menampilkan 5 data teratas di bulan September\n",
    "\n",
    "df_jkt_sep.head()"
   ]
  },
  {
   "cell_type": "code",
   "execution_count": null,
   "metadata": {},
   "outputs": [],
   "source": [
    "# menampilkan 5 data teratas di bulan Oktober\n",
    "\n",
    "df_jkt_oct.head()"
   ]
  },
  {
   "cell_type": "code",
   "execution_count": null,
   "metadata": {},
   "outputs": [],
   "source": [
    "# menampilkan 5 data teratas di bulan November\n",
    "\n",
    "df_jkt_nov.head()"
   ]
  },
  {
   "cell_type": "code",
   "execution_count": null,
   "metadata": {},
   "outputs": [],
   "source": [
    "# menampilkan 5 data teratas di bulan Desember\n",
    "\n",
    "df_jkt_dec.head()"
   ]
  },
  {
   "cell_type": "code",
   "execution_count": null,
   "metadata": {},
   "outputs": [],
   "source": [
    "# menggabungkan seluruh data dari bulan Februari hingga Desember menjadi satu dataframe\n",
    "\n",
    "df_jkt = pd.concat([df_jkt_feb, df_jkt_mar, df_jkt_apr, df_jkt_may, df_jkt_jun, df_jkt_jul, df_jkt_aug, df_jkt_sep, df_jkt_oct, df_jkt_nov, df_jkt_dec])\n",
    "df_jkt"
   ]
  },
  {
   "cell_type": "markdown",
   "metadata": {},
   "source": [
    "### Dataset Indeks Standar Pencemar Udara (ISPU) di Yogyakarta tahun 2021"
   ]
  },
  {
   "cell_type": "code",
   "execution_count": null,
   "metadata": {},
   "outputs": [],
   "source": [
    "# import dataset indeks standar pencemar udara (ISPU) di Yogyakarta pada tahun 2021\n",
    "\n",
    "df_jogja_jan = pd.read_csv('../Dataset/Air Quality in Yogyakarta 2021/psi-jogja-jan-2021.csv')\n",
    "df_jogja_feb = pd.read_csv('../Dataset/Air Quality in Yogyakarta 2021/psi-jogja-feb-2021.csv')\n",
    "df_jogja_mar = pd.read_csv('../Dataset/Air Quality in Yogyakarta 2021/psi-jogja-mar-2021.csv')\n",
    "df_jogja_apr = pd.read_csv('../Dataset/Air Quality in Yogyakarta 2021/psi-jogja-apr-2021.csv')\n",
    "df_jogja_may = pd.read_csv('../Dataset/Air Quality in Yogyakarta 2021/psi-jogja-may-2021.csv')\n",
    "df_jogja_jun = pd.read_csv('../Dataset/Air Quality in Yogyakarta 2021/psi-jogja-jun-2021.csv')\n",
    "df_jogja_jul = pd.read_csv('../Dataset/Air Quality in Yogyakarta 2021/psi-jogja-jul-2021.csv')\n",
    "df_jogja_aug = pd.read_csv('../Dataset/Air Quality in Yogyakarta 2021/psi-jogja-aug-2021.csv')\n",
    "df_jogja_sep = pd.read_csv('../Dataset/Air Quality in Yogyakarta 2021/psi-jogja-sep-2021.csv')\n",
    "df_jogja_oct = pd.read_csv('../Dataset/Air Quality in Yogyakarta 2021/psi-jogja-oct-2021.csv')\n",
    "df_jogja_nov = pd.read_csv('../Dataset/Air Quality in Yogyakarta 2021/psi-jogja-nov-2021.csv')\n",
    "df_jogja_dec = pd.read_csv('../Dataset/Air Quality in Yogyakarta 2021/psi-jogja-dec-2021.csv')"
   ]
  },
  {
   "cell_type": "code",
   "execution_count": null,
   "metadata": {},
   "outputs": [],
   "source": [
    "# menampilkan 5 data teratas di bulan Januari\n",
    "\n",
    "df_jogja_jan.head()"
   ]
  },
  {
   "cell_type": "code",
   "execution_count": null,
   "metadata": {},
   "outputs": [],
   "source": [
    "# menampilkan 5 data teratas di bulan Februari\n",
    "\n",
    "df_jogja_feb.head()"
   ]
  },
  {
   "cell_type": "code",
   "execution_count": null,
   "metadata": {},
   "outputs": [],
   "source": [
    "# menampilkan 5 data teratas di bulan Maret\n",
    "\n",
    "df_jogja_mar.head()"
   ]
  },
  {
   "cell_type": "code",
   "execution_count": null,
   "metadata": {},
   "outputs": [],
   "source": [
    "# menampilkan 5 data teratas di bulan April\n",
    "\n",
    "df_jogja_apr.head()"
   ]
  },
  {
   "cell_type": "code",
   "execution_count": null,
   "metadata": {},
   "outputs": [],
   "source": [
    "# menampilkan 5 data teratas di bulan Mei\n",
    "\n",
    "df_jogja_may.head()"
   ]
  },
  {
   "cell_type": "code",
   "execution_count": null,
   "metadata": {},
   "outputs": [],
   "source": [
    "# menampilkan 5 data teratas di bulan Juni\n",
    "\n",
    "df_jogja_jun.head()"
   ]
  },
  {
   "cell_type": "code",
   "execution_count": null,
   "metadata": {},
   "outputs": [],
   "source": [
    "# menampilkan 5 data teratas di bulan Jogja\n",
    "\n",
    "df_jogja_jul.head()"
   ]
  },
  {
   "cell_type": "code",
   "execution_count": null,
   "metadata": {},
   "outputs": [],
   "source": [
    "# menampilkan 5 data teratas di bulan Agustus\n",
    "\n",
    "df_jogja_aug.head()"
   ]
  },
  {
   "cell_type": "code",
   "execution_count": null,
   "metadata": {},
   "outputs": [],
   "source": [
    "# menampilkan 5 data teratas di bulan September\n",
    "\n",
    "df_jogja_sep.head()"
   ]
  },
  {
   "cell_type": "code",
   "execution_count": null,
   "metadata": {},
   "outputs": [],
   "source": [
    "# menampilkan 5 data teratas di bulan Oktober\n",
    "\n",
    "df_jogja_oct.head()"
   ]
  },
  {
   "cell_type": "code",
   "execution_count": null,
   "metadata": {},
   "outputs": [],
   "source": [
    "# menampilkan 5 data teratas di bulan November\n",
    "\n",
    "df_jogja_nov.head()"
   ]
  },
  {
   "cell_type": "code",
   "execution_count": null,
   "metadata": {},
   "outputs": [],
   "source": [
    "# menampilkan 5 data teratas di bulan Desember\n",
    "\n",
    "df_jogja_dec.head()"
   ]
  },
  {
   "cell_type": "code",
   "execution_count": null,
   "metadata": {},
   "outputs": [],
   "source": [
    "# menggabungkan seluruh data dari bulan Januari hingga Desember menjadi satu dataframe\n",
    "\n",
    "df_jogja = pd.concat([df_jogja_jan, df_jogja_feb, df_jogja_mar, df_jogja_apr, df_jogja_may, df_jogja_jun, df_jogja_jul, df_jogja_aug, df_jogja_sep, df_jogja_oct, df_jogja_nov, df_jogja_dec])\n",
    "df_jogja"
   ]
  },
  {
   "cell_type": "markdown",
   "metadata": {},
   "source": [
    "## Data Preprocessing"
   ]
  },
  {
   "cell_type": "code",
   "execution_count": null,
   "metadata": {},
   "outputs": [],
   "source": [
    "# menghapus kolom-kolom yang tidak digunakan\n",
    "\n",
    "df_spku_jkt.drop(axis=1, columns=[\"tanggal\", \"stasiun\"], inplace=True)\n",
    "df_spku_jkt.head()"
   ]
  },
  {
   "cell_type": "code",
   "execution_count": null,
   "metadata": {},
   "outputs": [],
   "source": [
    "# menghapus kolom-kolom yang tidak digunakan\n",
    "\n",
    "df_jkt.drop(axis=1, columns=[\"tanggal\", \"location\", \"no3\"], inplace=True)\n",
    "df_jkt.head()"
   ]
  },
  {
   "cell_type": "code",
   "execution_count": null,
   "metadata": {},
   "outputs": [],
   "source": [
    "# menghapus kolom-kolom yang tidak digunakan\n",
    "\n",
    "df_jogja.drop(axis=1, columns=[\"Date\", \"Time\"], inplace=True)\n",
    "df_jogja.head()"
   ]
  },
  {
   "cell_type": "code",
   "execution_count": null,
   "metadata": {},
   "outputs": [],
   "source": [
    "# mengubah nama kolom agar tidak terjadi konflik saat menggabungkan dataset\n",
    "\n",
    "df_spku_jkt.rename(columns={\n",
    "    'pm10': 'PM10',\n",
    "    'pm25': 'PM2.5',\n",
    "    'so2': 'SO2',\n",
    "    'co': 'CO',\n",
    "    'o3': 'O3',\n",
    "    'no2': 'NO2',\n",
    "    'max': 'Max',\n",
    "    'critical': 'Critical Component',\n",
    "    'categori': 'Category'\n",
    "}, inplace=True)\n",
    "df_spku_jkt.head()"
   ]
  },
  {
   "cell_type": "code",
   "execution_count": null,
   "metadata": {},
   "outputs": [],
   "source": [
    "# mengubah nama kolom agar tidak terjadi konflik saat menggabungkan dataset\n",
    "\n",
    "df_jkt.rename(columns={\n",
    "    'pm10': 'PM10',\n",
    "    'pm25': 'PM2.5',\n",
    "    'so2': 'SO2',\n",
    "    'co': 'CO',\n",
    "    'o3': 'O3',\n",
    "    'no2': 'NO2',\n",
    "    'max': 'Max',\n",
    "    'critical': 'Critical Component',\n",
    "    'categori': 'Category'\n",
    "}, inplace=True)\n",
    "df_jkt.head()"
   ]
  },
  {
   "cell_type": "code",
   "execution_count": null,
   "metadata": {},
   "outputs": [],
   "source": [
    "# menggabungkan ketiga dataset menjadi satu dataframe\n",
    "\n",
    "df = pd.concat([df_spku_jkt, df_jkt, df_jogja])\n",
    "df"
   ]
  },
  {
   "cell_type": "code",
   "execution_count": null,
   "metadata": {},
   "outputs": [],
   "source": [
    "# menampilkan nilai unik pada kolom Critical Component\n",
    "\n",
    "df['Critical Component'].unique()"
   ]
  },
  {
   "cell_type": "code",
   "execution_count": null,
   "metadata": {},
   "outputs": [],
   "source": [
    "# menampilkan nilai unik pada kolom Category\n",
    "\n",
    "df['Category'].unique()"
   ]
  },
  {
   "cell_type": "code",
   "execution_count": null,
   "metadata": {},
   "outputs": [],
   "source": [
    "# memperbaiki penulisan nilai pada kolom Critical Component\n",
    "\n",
    "df['Critical Component'].replace(to_replace='PM25', value='PM2.5', inplace=True)\n",
    "df['Critical Component'].replace(to_replace='PM26', value='PM2.5', inplace=True) # perbaikan typo\n",
    "df['Critical Component'].unique()"
   ]
  },
  {
   "cell_type": "code",
   "execution_count": null,
   "metadata": {},
   "outputs": [],
   "source": [
    "# memperbaiki penulisan nilai pada kolom Category\n",
    "\n",
    "df['Category'].replace(to_replace='Good', value='BAIK', inplace=True)\n",
    "df['Category'].replace(to_replace='Moderate', value='SEDANG', inplace=True)\n",
    "df['Category'].unique()"
   ]
  },
  {
   "cell_type": "code",
   "execution_count": null,
   "metadata": {},
   "outputs": [],
   "source": [
    "# menampilkan dataframe\n",
    "\n",
    "df"
   ]
  },
  {
   "cell_type": "code",
   "execution_count": null,
   "metadata": {},
   "outputs": [],
   "source": [
    "# menampilkan informasi dari dataframe\n",
    "\n",
    "df.info()"
   ]
  },
  {
   "cell_type": "code",
   "execution_count": null,
   "metadata": {},
   "outputs": [],
   "source": [
    "# menampilkan jumlah data kosong (missing value)\n",
    "\n",
    "df.isnull().sum()"
   ]
  },
  {
   "cell_type": "code",
   "execution_count": null,
   "metadata": {},
   "outputs": [],
   "source": [
    "# menampilkan jumlah data duplikat\n",
    "\n",
    "df.duplicated().sum()"
   ]
  },
  {
   "cell_type": "code",
   "execution_count": null,
   "metadata": {},
   "outputs": [],
   "source": [
    "# menghapus data kosong (missing value)\n",
    "\n",
    "df.dropna(inplace=True)\n",
    "df"
   ]
  },
  {
   "cell_type": "code",
   "execution_count": null,
   "metadata": {},
   "outputs": [],
   "source": [
    "# menampilkan kembali jumlah data kosong\n",
    "\n",
    "df.isnull().sum()"
   ]
  },
  {
   "cell_type": "code",
   "execution_count": null,
   "metadata": {},
   "outputs": [],
   "source": [
    "# menghapus data duplikat\n",
    "\n",
    "df = df.drop_duplicates()\n",
    "df"
   ]
  },
  {
   "cell_type": "code",
   "execution_count": null,
   "metadata": {},
   "outputs": [],
   "source": [
    "# menampilkan kembali informasi dari dataframe\n",
    "\n",
    "df.info()"
   ]
  },
  {
   "cell_type": "code",
   "execution_count": null,
   "metadata": {},
   "outputs": [],
   "source": [
    "# menghapus baris data yang terdapat nilai --- (nilai kosong bawaan dataset)\n",
    "\n",
    "df = df.drop(df[df['PM10'] == '---'].index)\n",
    "df = df.drop(df[df['PM2.5'] == '---'].index)\n",
    "df = df.drop(df[df['SO2'] == '---'].index)\n",
    "df = df.drop(df[df['CO'] == '---'].index)\n",
    "df = df.drop(df[df['O3'] == '---'].index)\n",
    "df = df.drop(df[df['NO2'] == '---'].index)\n",
    "df = df.drop(df[df['Max'] == '---'].index)\n",
    "df"
   ]
  },
  {
   "cell_type": "code",
   "execution_count": null,
   "metadata": {},
   "outputs": [],
   "source": [
    "# mengubah nilai dengan tipe data object (string) menjadi float\n",
    "\n",
    "df[['PM10', 'PM2.5', 'SO2', 'CO', 'O3', 'NO2', 'Max']] = df[['PM10', 'PM2.5', 'SO2', 'CO', 'O3', 'NO2', 'Max']].astype(str).astype(float)"
   ]
  },
  {
   "cell_type": "code",
   "execution_count": null,
   "metadata": {},
   "outputs": [],
   "source": [
    "# menampilkan kembali informasi dari dataframe\n",
    "\n",
    "df.info()"
   ]
  },
  {
   "cell_type": "code",
   "execution_count": null,
   "metadata": {},
   "outputs": [],
   "source": [
    "# menampilkan dataframe\n",
    "\n",
    "df"
   ]
  },
  {
   "cell_type": "code",
   "execution_count": null,
   "metadata": {},
   "outputs": [],
   "source": [
    "# mengubah nilai pada kolom Category menjadi angka agar bisa dikomputasi oleh mesin\n",
    "\n",
    "df['Category'] = df['Category'].map({\n",
    "    'TIDAK SEHAT':0,\n",
    "    'SEDANG':1,\n",
    "    'BAIK':2\n",
    "})\n",
    "df['Category'].unique()"
   ]
  },
  {
   "cell_type": "code",
   "execution_count": null,
   "metadata": {},
   "outputs": [],
   "source": [
    "# one hot encoding untuk kolom-kolom yang bersifat kategorikal\n",
    "\n",
    "df = pd.get_dummies(df)\n",
    "df"
   ]
  },
  {
   "cell_type": "code",
   "execution_count": null,
   "metadata": {},
   "outputs": [],
   "source": [
    "# menampilkan grafik jumlah data pada kolom Category\n",
    "\n",
    "# 0 = Tidak sehat\n",
    "# 1 = Sedang\n",
    "# 2 = Baik\n",
    "\n",
    "df['Category'].value_counts().plot(kind='bar')\n",
    "plt.show()"
   ]
  },
  {
   "cell_type": "code",
   "execution_count": null,
   "metadata": {},
   "outputs": [],
   "source": [
    "# menampilkan kembali informasi dari dataset\n",
    "\n",
    "df.info()"
   ]
  },
  {
   "cell_type": "code",
   "execution_count": null,
   "metadata": {},
   "outputs": [],
   "source": [
    "# membagi data menjadi features (X) dan label (y)\n",
    "\n",
    "X = df[[\n",
    "    'PM10',\n",
    "    'PM2.5',\n",
    "    'SO2',\n",
    "    'CO',\n",
    "    'O3',\n",
    "    'NO2',\n",
    "    'Max',\n",
    "    'Critical Component_CO',\n",
    "    'Critical Component_O3',\n",
    "    'Critical Component_PM10',\n",
    "    'Critical Component_PM2.5',\n",
    "    'Critical Component_SO2'\n",
    "    ]]\n",
    "y = df['Category']"
   ]
  },
  {
   "cell_type": "code",
   "execution_count": null,
   "metadata": {},
   "outputs": [],
   "source": [
    "# menyeimbangkan jumlah data berdasarkan kolom Category atau label (y)\n",
    "\n",
    "oversampler = RandomOverSampler()\n",
    "X_resample, y_resample = oversampler.fit_resample(X, y)"
   ]
  },
  {
   "cell_type": "code",
   "execution_count": null,
   "metadata": {},
   "outputs": [],
   "source": [
    "# menampilkan kembali jumlah data pada kolom Category atau label (y)\n",
    "\n",
    "y_resample.value_counts().plot(kind='bar')\n",
    "plt.show()"
   ]
  },
  {
   "cell_type": "code",
   "execution_count": null,
   "metadata": {},
   "outputs": [],
   "source": [
    "# scaling data menggunakan Standard Scaler\n",
    "\n",
    "scaler = StandardScaler()\n",
    "scaler.fit(X_resample)\n",
    "X_resample = scaler.transform(X_resample)"
   ]
  },
  {
   "cell_type": "markdown",
   "metadata": {},
   "source": [
    "## Training Model"
   ]
  },
  {
   "cell_type": "code",
   "execution_count": null,
   "metadata": {},
   "outputs": [],
   "source": [
    "# membagi data menjadi data latih (training data) dan data uji (test data)\n",
    "\n",
    "X_train, X_test, y_train, y_test = train_test_split(X_resample, y_resample, test_size=0.2, random_state=42)"
   ]
  },
  {
   "cell_type": "code",
   "execution_count": null,
   "metadata": {},
   "outputs": [],
   "source": [
    "# pelatihan model menggunakan algoritma Support Vector Machine (SVM)\n",
    "\n",
    "model = SVC()\n",
    "model.fit(X_train, y_train)"
   ]
  },
  {
   "cell_type": "markdown",
   "metadata": {},
   "source": [
    "## Evaluation"
   ]
  },
  {
   "cell_type": "code",
   "execution_count": null,
   "metadata": {},
   "outputs": [],
   "source": [
    "# menampilkan akurasi model\n",
    "\n",
    "accuracy = model.score(X_test, y_test)\n",
    "print('Accuracy :', accuracy)"
   ]
  },
  {
   "cell_type": "code",
   "execution_count": null,
   "metadata": {},
   "outputs": [],
   "source": [
    "# cek overfit/underfit\n",
    "\n",
    "training_accuracy = accuracy_score(y_train, model.predict(X_train))\n",
    "test_accuracy = accuracy_score(y_test, model.predict(X_test))\n",
    "print('Training accuracy :', training_accuracy)\n",
    "print('Test accuracy :', test_accuracy)\n",
    "print('Difference :', training_accuracy - test_accuracy)"
   ]
  },
  {
   "cell_type": "code",
   "execution_count": null,
   "metadata": {},
   "outputs": [],
   "source": [
    "# menampilkan confusion matrix\n",
    "\n",
    "y_pred = model.predict(X_test)\n",
    "cm = confusion_matrix(y_test, y_pred)\n",
    "disp = ConfusionMatrixDisplay(confusion_matrix=cm, display_labels=model.classes_)\n",
    "disp.plot()\n",
    "plt.show()"
   ]
  },
  {
   "cell_type": "code",
   "execution_count": null,
   "metadata": {},
   "outputs": [],
   "source": [
    "# melihat laporan klasifikasi\n",
    "\n",
    "print(classification_report(y_test, y_pred, zero_division=0, digits=4))"
   ]
  }
 ],
 "metadata": {
  "kernelspec": {
   "display_name": "Python 3",
   "language": "python",
   "name": "python3"
  },
  "language_info": {
   "codemirror_mode": {
    "name": "ipython",
    "version": 3
   },
   "file_extension": ".py",
   "mimetype": "text/x-python",
   "name": "python",
   "nbconvert_exporter": "python",
   "pygments_lexer": "ipython3",
   "version": "3.11.5"
  },
  "orig_nbformat": 4
 },
 "nbformat": 4,
 "nbformat_minor": 2
}
